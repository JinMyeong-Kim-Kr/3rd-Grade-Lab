{
  "nbformat": 4,
  "nbformat_minor": 0,
  "metadata": {
    "colab": {
      "provenance": []
    },
    "kernelspec": {
      "name": "python3",
      "display_name": "Python 3"
    },
    "language_info": {
      "name": "python"
    }
  },
  "cells": [
    {
      "cell_type": "code",
      "source": [
        "import torch"
      ],
      "metadata": {
        "id": "1CXBuvd52W4q"
      },
      "execution_count": 1,
      "outputs": []
    },
    {
      "cell_type": "code",
      "source": [
        "# 텐서 만들기\n",
        "x = torch.tensor([[1,2,3], [4,5,6], [7,8,9]])\n",
        "y = torch.FloatTensor([[1,2,3], [4,5,6], [7,8,9]])\n",
        "print(\"x = \", x)\n",
        "print(\"y = \", y)"
      ],
      "metadata": {
        "colab": {
          "base_uri": "https://localhost:8080/"
        },
        "id": "VnppxZXE2bOl",
        "outputId": "cfb57676-8ad8-4a71-83c7-48f5d9201ce7"
      },
      "execution_count": 2,
      "outputs": [
        {
          "output_type": "stream",
          "name": "stdout",
          "text": [
            "x =  tensor([[1, 2, 3],\n",
            "        [4, 5, 6],\n",
            "        [7, 8, 9]])\n",
            "y =  tensor([[1., 2., 3.],\n",
            "        [4., 5., 6.],\n",
            "        [7., 8., 9.]])\n"
          ]
        }
      ]
    },
    {
      "cell_type": "code",
      "source": [
        "# 크기와 랭크(차원) 확인하기\n",
        "print(\"Size: \", x.size())\n",
        "print(\"Shape: \", x.shape)\n",
        "print(\"차원(랭크): \", x.ndimension())"
      ],
      "metadata": {
        "colab": {
          "base_uri": "https://localhost:8080/"
        },
        "id": "fFqI-o6d2wai",
        "outputId": "ac703643-0882-4a71-bfcc-4285df1b24b0"
      },
      "execution_count": 3,
      "outputs": [
        {
          "output_type": "stream",
          "name": "stdout",
          "text": [
            "Size:  torch.Size([3, 3])\n",
            "Shape:  torch.Size([3, 3])\n",
            "차원(랭크):  2\n"
          ]
        }
      ]
    },
    {
      "cell_type": "code",
      "source": [
        "# 텐서 모양 바꾸기\n",
        "# unsqueeze(x, i): tensor x에 i 번째 차원 추가\n",
        "x0 = torch.unsqueeze(x, 0)\n",
        "x1 = torch.unsqueeze(x, 1)\n",
        "x2 = torch.unsqueeze(x, 2)\n",
        "print(\"x0.shape: \", x0.shape)\n",
        "print(\"x1.shape: \", x1.shape)\n",
        "print(\"x2.shape: \", x2.shape)\n",
        "print(\"x0 = \", x0)\n",
        "print(\"x1 = \", x1)\n",
        "print(\"x2 = \", x2)"
      ],
      "metadata": {
        "colab": {
          "base_uri": "https://localhost:8080/"
        },
        "id": "fPOSvQlo3G0T",
        "outputId": "4f6790fb-ad22-4758-d17a-a925c2f2c7ce"
      },
      "execution_count": 4,
      "outputs": [
        {
          "output_type": "stream",
          "name": "stdout",
          "text": [
            "x0.shape:  torch.Size([1, 3, 3])\n",
            "x1.shape:  torch.Size([3, 1, 3])\n",
            "x2.shape:  torch.Size([3, 3, 1])\n",
            "x0 =  tensor([[[1, 2, 3],\n",
            "         [4, 5, 6],\n",
            "         [7, 8, 9]]])\n",
            "x1 =  tensor([[[1, 2, 3]],\n",
            "\n",
            "        [[4, 5, 6]],\n",
            "\n",
            "        [[7, 8, 9]]])\n",
            "x2 =  tensor([[[1],\n",
            "         [2],\n",
            "         [3]],\n",
            "\n",
            "        [[4],\n",
            "         [5],\n",
            "         [6]],\n",
            "\n",
            "        [[7],\n",
            "         [8],\n",
            "         [9]]])\n"
          ]
        }
      ]
    },
    {
      "cell_type": "code",
      "source": [
        "# 텐서 모양 바꾸기\n",
        "# squeeze(x): 텐서 x에서 크기가 1인 차원 제거\n",
        "x3 = torch.squeeze(torch.squeeze(x0))\n",
        "print(\"x3 = \", x3)\n",
        "print(\"x3.shape = \", x3.shape)"
      ],
      "metadata": {
        "colab": {
          "base_uri": "https://localhost:8080/"
        },
        "id": "KqOY-Ni03wTj",
        "outputId": "f3c2803e-682f-44b6-ff19-6f15437364e4"
      },
      "execution_count": 5,
      "outputs": [
        {
          "output_type": "stream",
          "name": "stdout",
          "text": [
            "x3 =  tensor([[1, 2, 3],\n",
            "        [4, 5, 6],\n",
            "        [7, 8, 9]])\n",
            "x3.shape =  torch.Size([3, 3])\n"
          ]
        }
      ]
    },
    {
      "cell_type": "code",
      "source": [
        "# 텐서 모양 바꾸기\n",
        "# x.view([shape]): x를 [shape]의 모양으로 변환\n",
        "x4 = x.view(9)\n",
        "x5 = x.view(1,3,3)\n",
        "print(\"x4 = \", x4)\n",
        "print(\"x5 = \", x5)\n"
      ],
      "metadata": {
        "colab": {
          "base_uri": "https://localhost:8080/"
        },
        "id": "YM5JurgF4IF2",
        "outputId": "4a3a1da5-5054-4756-e530-8b8812862816"
      },
      "execution_count": 6,
      "outputs": [
        {
          "output_type": "stream",
          "name": "stdout",
          "text": [
            "x4 =  tensor([1, 2, 3, 4, 5, 6, 7, 8, 9])\n",
            "x5 =  tensor([[[1, 2, 3],\n",
            "         [4, 5, 6],\n",
            "         [7, 8, 9]]])\n"
          ]
        }
      ]
    },
    {
      "cell_type": "code",
      "source": [
        "# 행렬 연산\n",
        "x = torch.FloatTensor([[1,2],[3,4],[5,6]])\n",
        "w = torch.randn(1, 2, dtype = torch.float)\n",
        "b = torch.randn(3, 1, dtype = torch.float)\n",
        "\n",
        "print(\"x = \", x)\n",
        "print(\"w = \", w)\n",
        "print(\"b = \", b)\n",
        "result = torch.mm(x, torch.t(w)) + b\n",
        "print(result)"
      ],
      "metadata": {
        "colab": {
          "base_uri": "https://localhost:8080/"
        },
        "id": "5q5A6r4O4vYX",
        "outputId": "d4824de0-b47a-448d-e3e8-c48398b4a688"
      },
      "execution_count": 8,
      "outputs": [
        {
          "output_type": "stream",
          "name": "stdout",
          "text": [
            "x =  tensor([[1., 2.],\n",
            "        [3., 4.],\n",
            "        [5., 6.]])\n",
            "w =  tensor([[-0.7497, -1.1612]])\n",
            "b =  tensor([[-0.4427],\n",
            "        [ 0.0576],\n",
            "        [ 0.7422]])\n",
            "tensor([[-3.5149],\n",
            "        [-6.8363],\n",
            "        [-9.9736]])\n"
          ]
        }
      ]
    },
    {
      "cell_type": "code",
      "source": [
        "# 기울기 계산\n",
        "w = torch.tensor(1.0, requires_grad = True)\n",
        "a = w * 3\n",
        "l = a ** 2\n",
        "l.backward()\n",
        "print(f\"l을 w로 미분한 값은 {w.grad}\")\n",
        "\n",
        "# 3a^3 + 4a + 7\n",
        "w = torch.tensor(5.0, requires_grad=True)\n",
        "a = w\n",
        "l = 3 * a ** 3 + 4 * a + 7\n",
        "l.backward()\n",
        "print(w.grad)"
      ],
      "metadata": {
        "colab": {
          "base_uri": "https://localhost:8080/"
        },
        "id": "5RKKaFE7prjq",
        "outputId": "1f2049ff-a9cc-476a-daed-52d336377a88"
      },
      "execution_count": 11,
      "outputs": [
        {
          "output_type": "stream",
          "name": "stdout",
          "text": [
            "l을 w로 미분한 값은 18.0\n",
            "tensor(229.)\n"
          ]
        }
      ]
    },
    {
      "cell_type": "code",
      "source": [
        "# 학습 데이터 생성\n",
        "x_train = torch.FloatTensor([[1,2], [3,2], [3,7], [1,1], [1,0]])\n",
        "y_train = torch.FloatTensor([[4], [8], [23], [1], [-2]])\n",
        "\n",
        "#w = torch.randn(2, 1)\n",
        "#b = torch.randn(1)\n",
        "w = torch.zeros(2, 1)\n",
        "b = torch.zeros(1, 1)\n",
        "learning_rate = 0.01\n",
        "\n",
        "for epoch in range(3001):\n",
        "  w.requires_grad_(True)\n",
        "  b.requires_grad_(True)\n",
        "  h = torch.mm(x_train, w) + b\n",
        "  cost = torch.mean((y_train - h) ** 2)\n",
        "  cost.backward()\n",
        "  with torch.no_grad() as grd:\n",
        "    w = w - learning_rate * w.grad\n",
        "    b = b - learning_rate * b.grad\n",
        "    if epoch % 100 == 0:\n",
        "      print( 'epoch: {}, cost: {:.6f}, W: {}, b: {}'.format(epoch, cost.item(), w.squeeze(), b))\n"
      ],
      "metadata": {
        "colab": {
          "base_uri": "https://localhost:8080/"
        },
        "id": "BtYuINlkrgpR",
        "outputId": "101c3b49-e006-4224-8380-a49276fca7b5"
      },
      "execution_count": 12,
      "outputs": [
        {
          "output_type": "stream",
          "name": "stdout",
          "text": [
            "epoch: 0, cost: 122.800003, W: tensor([0.3840, 0.7440]), b: tensor([[0.1360]])\n",
            "epoch: 100, cost: 1.533757, W: tensor([0.6226, 3.1603]), b: tensor([[-1.3651]])\n",
            "epoch: 200, cost: 0.758241, W: tensor([0.9143, 3.1864]), b: tensor([[-2.1790]])\n",
            "epoch: 300, cost: 0.389288, W: tensor([1.2106, 3.1417]), b: tensor([[-2.7023]])\n",
            "epoch: 400, cost: 0.200058, W: tensor([1.4328, 3.1025]), b: tensor([[-3.0705]])\n",
            "epoch: 500, cost: 0.102813, W: tensor([1.5932, 3.0736]), b: tensor([[-3.3338]])\n",
            "epoch: 600, cost: 0.052838, W: tensor([1.7084, 3.0528]), b: tensor([[-3.5224]])\n",
            "epoch: 700, cost: 0.027154, W: tensor([1.7909, 3.0378]), b: tensor([[-3.6576]])\n",
            "epoch: 800, cost: 0.013955, W: tensor([1.8501, 3.0271]), b: tensor([[-3.7546]])\n",
            "epoch: 900, cost: 0.007172, W: tensor([1.8926, 3.0194]), b: tensor([[-3.8241]])\n",
            "epoch: 1000, cost: 0.003686, W: tensor([1.9230, 3.0139]), b: tensor([[-3.8739]])\n",
            "epoch: 1100, cost: 0.001894, W: tensor([1.9448, 3.0100]), b: tensor([[-3.9096]])\n",
            "epoch: 1200, cost: 0.000973, W: tensor([1.9604, 3.0072]), b: tensor([[-3.9352]])\n",
            "epoch: 1300, cost: 0.000500, W: tensor([1.9716, 3.0051]), b: tensor([[-3.9535]])\n",
            "epoch: 1400, cost: 0.000257, W: tensor([1.9797, 3.0037]), b: tensor([[-3.9667]])\n",
            "epoch: 1500, cost: 0.000132, W: tensor([1.9854, 3.0026]), b: tensor([[-3.9761]])\n",
            "epoch: 1600, cost: 0.000068, W: tensor([1.9895, 3.0019]), b: tensor([[-3.9829]])\n",
            "epoch: 1700, cost: 0.000035, W: tensor([1.9925, 3.0014]), b: tensor([[-3.9877]])\n",
            "epoch: 1800, cost: 0.000018, W: tensor([1.9946, 3.0010]), b: tensor([[-3.9912]])\n",
            "epoch: 1900, cost: 0.000009, W: tensor([1.9961, 3.0007]), b: tensor([[-3.9937]])\n",
            "epoch: 2000, cost: 0.000005, W: tensor([1.9972, 3.0005]), b: tensor([[-3.9955]])\n",
            "epoch: 2100, cost: 0.000002, W: tensor([1.9980, 3.0004]), b: tensor([[-3.9968]])\n",
            "epoch: 2200, cost: 0.000001, W: tensor([1.9986, 3.0003]), b: tensor([[-3.9977]])\n",
            "epoch: 2300, cost: 0.000001, W: tensor([1.9990, 3.0002]), b: tensor([[-3.9983]])\n",
            "epoch: 2400, cost: 0.000000, W: tensor([1.9993, 3.0001]), b: tensor([[-3.9988]])\n",
            "epoch: 2500, cost: 0.000000, W: tensor([1.9995, 3.0001]), b: tensor([[-3.9991]])\n",
            "epoch: 2600, cost: 0.000000, W: tensor([1.9996, 3.0001]), b: tensor([[-3.9994]])\n",
            "epoch: 2700, cost: 0.000000, W: tensor([1.9997, 3.0000]), b: tensor([[-3.9996]])\n",
            "epoch: 2800, cost: 0.000000, W: tensor([1.9998, 3.0000]), b: tensor([[-3.9997]])\n",
            "epoch: 2900, cost: 0.000000, W: tensor([1.9999, 3.0000]), b: tensor([[-3.9998]])\n",
            "epoch: 3000, cost: 0.000000, W: tensor([1.9999, 3.0000]), b: tensor([[-3.9998]])\n"
          ]
        }
      ]
    },
    {
      "cell_type": "code",
      "source": [
        "# x = [5, 10]\n",
        "x_test = torch.FloatTensor([[5, 10]])\n",
        "test_result = torch.mm(x_test, w) + b\n",
        "print(test_result.item())"
      ],
      "metadata": {
        "colab": {
          "base_uri": "https://localhost:8080/"
        },
        "id": "yiB2oQE_7hJd",
        "outputId": "84f2fb3f-c8d1-40bb-fa0c-dbc02e399b0d"
      },
      "execution_count": 13,
      "outputs": [
        {
          "output_type": "stream",
          "name": "stdout",
          "text": [
            "35.99984359741211\n"
          ]
        }
      ]
    },
    {
      "cell_type": "code",
      "source": [
        "# Sklearn\n",
        "# 모델 생성 및 학습\n",
        "from sklearn.linear_model import LinearRegression\n",
        "\n",
        "x = [[1,2],[3,2],[3,7],[1,1],[1,0]]\n",
        "y = [[4], [8], [23], [1], [-2]]\n",
        "\n",
        "lr = LinearRegression()\n",
        "lr.fit(x, y)"
      ],
      "metadata": {
        "colab": {
          "base_uri": "https://localhost:8080/"
        },
        "id": "WyWReSQKwWJP",
        "outputId": "9631271a-f02e-4c9c-9d9f-92261d17a4d8"
      },
      "execution_count": 15,
      "outputs": [
        {
          "output_type": "execute_result",
          "data": {
            "text/plain": [
              "LinearRegression()"
            ]
          },
          "metadata": {},
          "execution_count": 15
        }
      ]
    },
    {
      "cell_type": "code",
      "source": [
        "lr.coef_ # w\n",
        "lr.intercept_ # b\n",
        "print(lr.coef_, lr.intercept_)\n",
        "\n",
        "x_test = [[5,10]]\n",
        "y_test = lr.predict(x_test)\n",
        "print(y_test)"
      ],
      "metadata": {
        "colab": {
          "base_uri": "https://localhost:8080/"
        },
        "id": "MLYdup-YxV9E",
        "outputId": "feadbace-79c6-479d-b11f-10c53535ccc0"
      },
      "execution_count": 16,
      "outputs": [
        {
          "output_type": "stream",
          "name": "stdout",
          "text": [
            "[[2. 3.]] [-4.]\n",
            "[[36.]]\n"
          ]
        }
      ]
    }
  ]
}