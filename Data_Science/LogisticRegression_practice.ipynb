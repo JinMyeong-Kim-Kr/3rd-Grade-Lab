{
  "nbformat": 4,
  "nbformat_minor": 0,
  "metadata": {
    "colab": {
      "provenance": [],
      "collapsed_sections": []
    },
    "kernelspec": {
      "name": "python3",
      "display_name": "Python 3"
    },
    "language_info": {
      "name": "python"
    }
  },
  "cells": [
    {
      "cell_type": "code",
      "execution_count": 2,
      "metadata": {
        "id": "Dkcy1uz7AtML"
      },
      "outputs": [],
      "source": [
        "# 학습 데이터 생성\n",
        "import torch\n",
        "\n",
        "# 입력이 다음과 같을때 (x_train = torch.tensor([], dtype = torch.float))\n",
        "x_train = torch.FloatTensor([[1], [2], [3], [4], [5], [2.5], [3.5], [0], [3.1], [2.7], [2.8], [2.9]])\n",
        "# 출력 결과\n",
        "y_train = torch.FloatTensor([[1],[1],[1],[0],[0],[0],[0],[1],[0],[1],[1],[1]])\n"
      ]
    },
    {
      "cell_type": "code",
      "source": [
        "import matplotlib.pyplot as plt\n",
        "plt.scatter(x_train, y_train)\n",
        "plt.show()"
      ],
      "metadata": {
        "colab": {
          "base_uri": "https://localhost:8080/",
          "height": 265
        },
        "id": "j4Ro858iQeSf",
        "outputId": "d2c5108a-4461-4d48-be12-fbf1c6d18d00"
      },
      "execution_count": 16,
      "outputs": [
        {
          "output_type": "display_data",
          "data": {
            "text/plain": [
              "<Figure size 432x288 with 1 Axes>"
            ],
            "image/png": "[encoded data removed]"
          },
          "metadata": {
            "needs_background": "light"
          }
        }
      ]
    },
    {
      "cell_type": "code",
      "source": [
        "w = torch.randn((1, 1), requires_grad = True) # 1,1 차원\n",
        "b = torch.randn((1, 1), requires_grad = True)\n",
        "\n",
        "# use optimizer \n",
        "optim = torch.optim.SGD([w, b], lr = 1.0)\n",
        "\n",
        "for epoch in range(1001):\n",
        "  # w.requires_grad_(True)\n",
        "  # b.requires_grad_(True)\n",
        "\n",
        "  h = torch.sigmoid(torch.mm(x_train, w) + b) # 가설 함수\n",
        "  c = - y_train * torch.log(h) - (1 - y_train) * torch.log(1 - h)\n",
        "  cost = torch.mean(c)\n",
        "\n",
        "  optim.zero_grad() # gradient 초기화 안하면 이상한 값이 생김 기울기값을누적해나가기때문 \n",
        "  # with torch.no_grad():\n",
        "  #   w.grad = torch.FloatTensor([[0]])\n",
        "  #   b.grad = torch.FloatTensor([[0]])\n",
        "\n",
        "  cost.backward() # 기울기 계산 \n",
        "  optim.step() # update parameter\n",
        "  \n",
        "  with torch.no_grad(): # 여기서는 그래프를 그리지 않음 기울기를 계산(학습)하는 부분이 아니기 때문 \n",
        "   # update parameter\n",
        "    # w = w - lr * w.grad\n",
        "    # b = b - lr * b.grad\n",
        "\n",
        "    if epoch % 100 == 0:\n",
        "      print(f\"w = {w.item()}, b: {b.item()}, cost: {cost.item()}\")\n"
      ],
      "metadata": {
        "colab": {
          "base_uri": "https://localhost:8080/"
        },
        "id": "XsaE6wr4RR81",
        "outputId": "75c9c835-2880-4bce-e001-cf2f0131020e"
      },
      "execution_count": 22,
      "outputs": [
        {
          "output_type": "stream",
          "name": "stdout",
          "text": [
            "w = -0.3055826425552368, b: 0.08787544071674347, cost: 0.7118533253669739\n",
            "w = -1.4546351432800293, b: 4.417247772216797, cost: 0.42000624537467957\n",
            "w = -1.9003045558929443, b: 5.779436111450195, cost: 0.3986565172672272\n",
            "w = -2.17557954788208, b: 6.613351345062256, cost: 0.39079150557518005\n",
            "w = -2.368241786956787, b: 7.194348335266113, cost: 0.38699355721473694\n",
            "w = -2.511317253112793, b: 7.624607086181641, cost: 0.38491562008857727\n",
            "w = -2.6213176250457764, b: 7.954779624938965, cost: 0.38369348645210266\n",
            "w = -2.707824945449829, b: 8.214085578918457, cost: 0.3829402029514313\n",
            "w = -2.7769410610198975, b: 8.421053886413574, cost: 0.3824605941772461\n",
            "w = -2.8327999114990234, b: 8.58819580078125, cost: 0.38214802742004395\n",
            "w = -2.8783411979675293, b: 8.724382400512695, cost: 0.38194045424461365\n"
          ]
        }
      ]
    },
    {
      "cell_type": "code",
      "source": [
        "with torch.no_grad():\n",
        "  x_test = torch.tensor([[4.5], [1.1]],dtype = torch.float)\n",
        "  y_test = torch.sigmoid(torch.mm(x_test, w) + b)\n",
        "  y_test[y_test > 0.5] = 1\n",
        "  y_test[y_test <= 0.5] = 0\n",
        "  print(y_test)\n"
      ],
      "metadata": {
        "colab": {
          "base_uri": "https://localhost:8080/"
        },
        "id": "AcRBQEvDSVxS",
        "outputId": "30ffaaae-edc5-4861-8af0-058e9830d529"
      },
      "execution_count": 24,
      "outputs": [
        {
          "output_type": "stream",
          "name": "stdout",
          "text": [
            "tensor([[0.],\n",
            "        [1.]])\n"
          ]
        }
      ]
    },
    {
      "cell_type": "code",
      "source": [
        "# Test\n",
        "with torch.no_grad():\n",
        "  x_tmp = torch.linspace(0, 5, 100).unsqueeze(1)\n",
        "  y_tmp = torch.sigmoid(torch.mm(x_tmp, w) + b)\n",
        "\n",
        "  plt.scatter(x_train, y_train, label = \"Training data\")\n",
        "  # 점과 선 색 변경\n",
        "  plt.ylabel(\"Probability of 1 (Y)\") \n",
        "  plt.xlabel(\"Input (X)\")\n",
        "\n",
        "  # 범례\n",
        "  plt.plot(x_tmp, y_tmp, c=\"#ff0000\", label=\"Fitting line\")\n",
        "  plt.legend()\n",
        "  # plt.show()\n"
      ],
      "metadata": {
        "colab": {
          "base_uri": "https://localhost:8080/",
          "height": 279
        },
        "id": "y9n-ik3MZivi",
        "outputId": "6d4c1555-4e93-4472-b1b4-a6417ef2b7f3"
      },
      "execution_count": 31,
      "outputs": [
        {
          "output_type": "display_data",
          "data": {
            "text/plain": [
              "<Figure size 432x288 with 1 Axes>"
            ],
            "image/png": "[encoded data removed]"
          },
          "metadata": {
            "needs_background": "light"
          }
        }
      ]
    },
    {
      "cell_type": "code",
      "source": [
        "from sklearn.linear_model import LogisticRegression\n",
        "x_train = [[1],[2],[3],[4],[5],[2.5],[3.5],[0],[3.1],[2.7],[2.8],[2.9]] \n",
        "y_train = [1,1,1,0,0,0,0,1,0,1,1,1]\n",
        "\n",
        "model = LogisticRegression(penalty = \"none\") # penalty : w 값이 매우 커지는걸 방지하기 위해 크기에 penalty를 줌 \n",
        "model.fit(x_train, y_train)\n",
        "\n",
        "print(model.coef_, model.intercept_)\n",
        "\n",
        "res = model.predict([[4.5], [1.1]])\n",
        "print(res)\n"
      ],
      "metadata": {
        "colab": {
          "base_uri": "https://localhost:8080/"
        },
        "id": "dZrjTgqde6Xu",
        "outputId": "4d32f404-96f9-4610-d5d6-575c167c182d"
      },
      "execution_count": 32,
      "outputs": [
        {
          "output_type": "stream",
          "name": "stdout",
          "text": [
            "[[-3.10385806]] [9.39776831]\n",
            "[0 1]\n"
          ]
        }
      ]
    }
  ]
}